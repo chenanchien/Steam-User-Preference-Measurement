{
 "cells": [
  {
   "cell_type": "markdown",
   "id": "7a33a90c-f06c-4a07-98a2-5a9165beb5d9",
   "metadata": {},
   "source": [
    "### 輸入英文遊戲名稱後即可得到其在 API 中該評論作者的總留言數\n",
    "最終輸出會是字典 review_id_2_num_reviews，key 是評論 id，value 是 該評論作者的總留言數"
   ]
  },
  {
   "cell_type": "markdown",
   "id": "e6c855b0-331e-4d5d-a9f4-eed950160ce5",
   "metadata": {},
   "source": [
    "get steam_reviews.csv: https://www.kaggle.com/najzeko/steam-reviews-2021"
   ]
  },
  {
   "cell_type": "code",
   "execution_count": 14,
   "id": "df6a1962-e5b6-45b5-b68c-5de5098dfda6",
   "metadata": {
    "tags": []
   },
   "outputs": [],
   "source": [
    "import numpy as np\n",
    "import pandas as pd\n",
    "\n",
    "col_list = [\"app_id\", \"app_name\"]\n",
    "# the file downloaded on kaggle\n",
    "steam_data = pd.read_csv('steam_reviews.csv', usecols=col_list)"
   ]
  },
  {
   "cell_type": "code",
   "execution_count": 15,
   "id": "301f2b92-6a9d-45d4-b25c-c8a0ee5d6c1a",
   "metadata": {},
   "outputs": [
    {
     "data": {
      "text/plain": [
       "app_id  app_name                      \n",
       "578080  PLAYERUNKNOWN'S BATTLEGROUNDS     1644255\n",
       "271590  Grand Theft Auto V                1019116\n",
       "359550  Tom Clancy's Rainbow Six Siege     841918\n",
       "105600  Terraria                           672815\n",
       "4000    Garry's Mod                        655524\n",
       "252490  Rust                               549074\n",
       "252950  Rocket League                      498565\n",
       "218620  PAYDAY 2                           487747\n",
       "945360  Among Us                           485293\n",
       "292030  The Witcher 3: Wild Hunt           469395\n",
       "381210  Dead by Daylight                   418897\n",
       "346110  ARK: Survival Evolved              400009\n",
       "227300  Euro Truck Simulator 2             387553\n",
       "413150  Stardew Valley                     315717\n",
       "72850   The Elder Scrolls V: Skyrim        294966\n",
       "431960  Wallpaper Engine                   292790\n",
       "582010  Monster Hunter: World              290946\n",
       "367520  Hollow Knight                      269854\n",
       "242760  The Forest                         239734\n",
       "322330  Don't Starve Together              238636\n",
       "dtype: int64"
      ]
     },
     "execution_count": 15,
     "metadata": {},
     "output_type": "execute_result"
    }
   ],
   "source": [
    "# get the game id and name pair\n",
    "# count the # of reviews of each game\n",
    "review_by_games = steam_data.groupby([\"app_id\", \"app_name\"]).size().sort_values(ascending=False)\n",
    "\n",
    "# top 20 game with most reviews\n",
    "review_by_games[:20]"
   ]
  },
  {
   "cell_type": "markdown",
   "id": "273c3b07-9060-4632-8a77-febfa1c564c0",
   "metadata": {},
   "source": [
    "### Enter the games you want to get number of reviews done by a review's author"
   ]
  },
  {
   "cell_type": "code",
   "execution_count": 16,
   "id": "615f88bc-0f06-4a80-82d5-9422904cea54",
   "metadata": {},
   "outputs": [
    {
     "name": "stdin",
     "output_type": "stream",
     "text": [
      "for example: The Legend of Heroes: Trails of Cold Steel II, Rapture Rejects, BERSERK and the Band of the Hawk PLAYERUNKNOWN'S BATTLEGROUNDS, Grand Theft Auto V, Tom Clancy's Rainbow Six Siege \n"
     ]
    }
   ],
   "source": [
    "steam_app_name_id = steam_data.drop_duplicates()\n",
    "\n",
    "search_app_names = input(\"for example: The Legend of Heroes: Trails of Cold Steel II, Rapture Rejects, BERSERK and the Band of the Hawk\").split(',')\n",
    "search_app_names = [i.strip() for i in search_app_names]"
   ]
  },
  {
   "cell_type": "code",
   "execution_count": 17,
   "id": "8e779954-e297-4ee4-9c06-e671b5ee0adc",
   "metadata": {},
   "outputs": [],
   "source": [
    "name_2_id = {}\n",
    "for ID, name in zip(steam_app_name_id.app_id, steam_app_name_id.app_name): \n",
    "    name_2_id[name] = ID"
   ]
  },
  {
   "cell_type": "markdown",
   "id": "38b46776-f6be-406f-be0d-db18a8d0f2b0",
   "metadata": {},
   "source": [
    "### Call Steam API"
   ]
  },
  {
   "cell_type": "code",
   "execution_count": 42,
   "id": "433b8dc7-1d57-4ae1-872a-9b47de01b2b4",
   "metadata": {
    "tags": []
   },
   "outputs": [
    {
     "name": "stdout",
     "output_type": "stream",
     "text": [
      "Name: PLAYERUNKNOWN'S BATTLEGROUNDS , id: 578080\n",
      "accumulative reviews:  100\n",
      "accumulative reviews:  200\n",
      "accumulative reviews:  300\n",
      "accumulative reviews:  400\n",
      "accumulative reviews:  500\n",
      "accumulative reviews:  600\n",
      "accumulative reviews:  700\n",
      "accumulative reviews:  800\n",
      "accumulative reviews:  900\n",
      "has loaded  10 pages of reviews......\n",
      "accumulative reviews:  1000\n",
      "accumulative reviews:  1100\n",
      "accumulative reviews:  1200\n",
      "accumulative reviews:  1300\n",
      "accumulative reviews:  1400\n",
      "accumulative reviews:  1500\n",
      "accumulative reviews:  1600\n",
      "accumulative reviews:  1700\n",
      "accumulative reviews:  1800\n",
      "accumulative reviews:  1900\n",
      "has loaded  20 pages of reviews......\n",
      "accumulative reviews:  1994\n",
      "accumulative reviews:  2069\n",
      "Same reviews...\n",
      "Same reviews...\n",
      "Same reviews...\n",
      "Same reviews...\n",
      "Same reviews...\n",
      "No new reviews!\n",
      "\n",
      "Name: Grand Theft Auto V , id: 271590\n",
      "accumulative reviews:  2169\n",
      "accumulative reviews:  2269\n",
      "accumulative reviews:  2369\n",
      "accumulative reviews:  2469\n",
      "accumulative reviews:  2569\n",
      "accumulative reviews:  2669\n",
      "accumulative reviews:  2769\n",
      "accumulative reviews:  2869\n",
      "accumulative reviews:  2969\n",
      "has loaded  10 pages of reviews......\n",
      "accumulative reviews:  3069\n",
      "accumulative reviews:  3169\n",
      "accumulative reviews:  3269\n",
      "accumulative reviews:  3369\n",
      "accumulative reviews:  3469\n",
      "accumulative reviews:  3569\n",
      "accumulative reviews:  3669\n",
      "accumulative reviews:  3691\n",
      "accumulative reviews:  3775\n",
      "Same reviews...\n",
      "has loaded  20 pages of reviews......\n",
      "Same reviews...\n",
      "Same reviews...\n",
      "Same reviews...\n",
      "Same reviews...\n",
      "No new reviews!\n",
      "\n",
      "Name: Tom Clancy's Rainbow Six Siege , id: 359550\n",
      "accumulative reviews:  3875\n",
      "accumulative reviews:  3975\n",
      "accumulative reviews:  4075\n",
      "accumulative reviews:  4175\n",
      "accumulative reviews:  4275\n",
      "accumulative reviews:  4375\n",
      "accumulative reviews:  4475\n",
      "accumulative reviews:  4575\n",
      "accumulative reviews:  4675\n",
      "has loaded  10 pages of reviews......\n",
      "accumulative reviews:  4775\n",
      "accumulative reviews:  4875\n",
      "accumulative reviews:  4975\n",
      "accumulative reviews:  5075\n",
      "accumulative reviews:  5175\n",
      "accumulative reviews:  5275\n",
      "accumulative reviews:  5375\n",
      "accumulative reviews:  5378\n",
      "accumulative reviews:  5456\n",
      "Same reviews...\n",
      "has loaded  20 pages of reviews......\n",
      "Same reviews...\n",
      "Same reviews...\n",
      "Same reviews...\n",
      "Same reviews...\n",
      "No new reviews!\n",
      "\n"
     ]
    }
   ],
   "source": [
    "import requests\n",
    "import json\n",
    "# provide a valid, URL encoded cursor\n",
    "import urllib.parse\n",
    "\n",
    "# how many reviews a review's author made\n",
    "review_id_2_num_reviews = {}\n",
    "# give up at the number if the new reviews don't show in the next n page\n",
    "cursor_tolerate = 5\n",
    "\n",
    "\n",
    "for name in search_app_names:\n",
    "    try:\n",
    "        print('Name:', name, ', id:', name_2_id[name])\n",
    "    except:\n",
    "        print('')\n",
    "        break\n",
    "    \n",
    "    # API parameter setting\n",
    "    init_url = \"https://store.steampowered.com/appreviews/\" \\\n",
    "    +str(name_2_id[name])\\\n",
    "    + \"?json=1&num_per_page=100&purchase_type=all&language=all\"\n",
    "    \n",
    "    counter = 1\n",
    "    # lead to next page\n",
    "    cursor = ''\n",
    "    review_cnt = 0\n",
    "    \n",
    "\n",
    "    cursor_stuck_cnt = 0\n",
    "    while True:\n",
    "        if counter == 1:\n",
    "            response = requests.get(init_url)\n",
    "        else:\n",
    "            response = requests.get(init_url + '&cursor=' + cursor)\n",
    "        # print(response.status_code)\n",
    "\n",
    "        try:\n",
    "            cursor = urllib.parse.quote(response.json()['cursor'], safe=\"\")\n",
    "            for i in response.json()['reviews']:\n",
    "                review_id_2_num_reviews[int(i['recommendationid'])] = int(i['author']['num_reviews'])\n",
    "\n",
    "            \n",
    "            # if there are new reviews from the this page, then go to next page\n",
    "            if len(review_id_2_num_reviews) > review_cnt:\n",
    "                review_cnt = len(review_id_2_num_reviews)\n",
    "                print('accumulative reviews: ', len(review_id_2_num_reviews))\n",
    "            # if not, simply break and enter the next game\n",
    "            else:  \n",
    "                print('Same reviews...')\n",
    "                cursor_stuck_cnt += 1\n",
    "\n",
    "                if cursor_stuck_cnt >= cursor_tolerate:\n",
    "                    print('No new reviews!')\n",
    "                    break\n",
    "                \n",
    "            counter += 1\n",
    "            # print which page we are on every 10 pages\n",
    "            if counter % 10 == 0:\n",
    "                print('has loaded ', counter, 'pages of reviews......')\n",
    "        except:\n",
    "            print('Load error!')\n",
    "            print(cursor)\n",
    "            print(json.dumps(response.json(), indent=4, sort_keys=True))\n",
    "            break  \n",
    "    print()  # between games"
   ]
  },
  {
   "cell_type": "markdown",
   "id": "5d18c6cc-9147-4663-8041-8f10595d5403",
   "metadata": {},
   "source": [
    "### Final output"
   ]
  },
  {
   "cell_type": "code",
   "execution_count": 44,
   "id": "e3b61e9e-c40b-44f7-8f98-ee3869ec3e5f",
   "metadata": {},
   "outputs": [
    {
     "data": {
      "text/plain": [
       "5456"
      ]
     },
     "execution_count": 44,
     "metadata": {},
     "output_type": "execute_result"
    }
   ],
   "source": [
    "len(review_id_2_num_reviews)"
   ]
  },
  {
   "cell_type": "code",
   "execution_count": 46,
   "id": "a642439b-c5a9-4e46-9ebb-518c5dc69501",
   "metadata": {
    "tags": []
   },
   "outputs": [],
   "source": [
    "# review_id_2_num_reviews"
   ]
  },
  {
   "cell_type": "code",
   "execution_count": null,
   "id": "58c20efe-14c9-4145-83e6-a365c0eb51ac",
   "metadata": {},
   "outputs": [],
   "source": []
  }
 ],
 "metadata": {
  "kernelspec": {
   "display_name": "Python 3",
   "language": "python",
   "name": "python3"
  },
  "language_info": {
   "codemirror_mode": {
    "name": "ipython",
    "version": 3
   },
   "file_extension": ".py",
   "mimetype": "text/x-python",
   "name": "python",
   "nbconvert_exporter": "python",
   "pygments_lexer": "ipython3",
   "version": "3.8.8"
  }
 },
 "nbformat": 4,
 "nbformat_minor": 5
}
