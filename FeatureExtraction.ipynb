{
 "cells": [
  {
   "cell_type": "code",
   "execution_count": 290,
   "metadata": {},
   "outputs": [],
   "source": [
    "import nltk\n",
    "import torch\n",
    "from sklearn.metrics.pairwise import cosine_similarity\n",
    "#from transformers import AutoModel, AutoTokenizer\n",
    "from transformers import BertTokenizer, BertForSequenceClassification \n",
    "import pandas as pd\n",
    "import numpy as np\n",
    "import pickle\n",
    "#from textblob import TextBlob\n",
    "#from langdetect import detect, detect_langs\n",
    "import matplotlib.pyplot as plt\n",
    "import seaborn as sns; sns.set()\n",
    "from sklearn.decomposition import PCA\n",
    "from sklearn.cluster import KMeans\n"
   ]
  },
  {
   "cell_type": "code",
   "execution_count": 2,
   "metadata": {},
   "outputs": [],
   "source": [
    "model_name = \"bert-base-uncased\"\n",
    "model_path = \"./results/checkpoint-5500\"\n",
    "#tokenizer = BertTokenizer.from_pretrained(model_path, local_files_only=True)\n",
    "tokenizer = BertTokenizer.from_pretrained(model_name)\n",
    "model = BertForSequenceClassification.from_pretrained(model_path, local_files_only=True)"
   ]
  },
  {
   "cell_type": "code",
   "execution_count": 12,
   "metadata": {},
   "outputs": [],
   "source": [
    "for i in range(11,21):\n",
    "    df_csv = pd.read_csv('D:/reviewsData/filtered{}.csv'.format(i)).drop(['Unnamed: 0'], axis=1)\n",
    "    if i > 0:\n",
    "        df_csv.index = df_csv.index + len(df)\n",
    "        df = pd.concat([df,df_csv])\n",
    "    else:\n",
    "        df = df_csv"
   ]
  },
  {
   "cell_type": "code",
   "execution_count": 23,
   "metadata": {},
   "outputs": [],
   "source": [
    "reviews = df['review'][df['app_name'] == \"\"\"PLAYERUNKNOWN'S BATTLEGROUNDS\"\"\"]\n",
    "reviews = reviews[reviews.str.len() > 30].values.tolist()"
   ]
  },
  {
   "cell_type": "markdown",
   "metadata": {},
   "source": [
    "## Candidate Reviews to Bert Embedding"
   ]
  },
  {
   "cell_type": "code",
   "execution_count": 33,
   "metadata": {},
   "outputs": [],
   "source": [
    "# with torch.no_grad():\n",
    "#     character = model(torch.tensor([tokenizer.encode('art')]),output_hidden_states =True)['hidden_states'][-1][:,1,:]\n",
    "token_frequency = {}\n",
    "token_feature = {}\n",
    "for i in range(len(reviews)):\n",
    "    words = reviews[i]\n",
    "    input_ids = torch.tensor([tokenizer.encode(words, truncation=True, max_length=512)])\n",
    "    tokens = tokenizer.tokenize(words)\n",
    "    with torch.no_grad():\n",
    "        features = model(input_ids,output_hidden_states=True)['hidden_states'][-1]\n",
    "        for j in range(features.shape[1]-2):\n",
    "            if tokens[j] not in token_frequency:\n",
    "                token_frequency[tokens[j]] = 1\n",
    "                token_feature[tokens[j]] = features[0,1+j,:]\n",
    "            else:\n",
    "                token_frequency[tokens[j]] += 1\n",
    "                token_feature[tokens[j]] += features[0,1+j,:]\n",
    "            #print(tokens[j], cosine_similarity(features[:,1+j,:], character))\n"
   ]
  },
  {
   "cell_type": "code",
   "execution_count": 34,
   "metadata": {},
   "outputs": [],
   "source": [
    "for k in token_feature.keys():\n",
    "    token_feature[k] = token_feature[k] / token_frequency[k]"
   ]
  },
  {
   "cell_type": "code",
   "execution_count": 35,
   "metadata": {},
   "outputs": [
    {
     "data": {
      "text/plain": [
       "22085"
      ]
     },
     "execution_count": 35,
     "metadata": {},
     "output_type": "execute_result"
    }
   ],
   "source": [
    "len(token_feature)"
   ]
  },
  {
   "cell_type": "code",
   "execution_count": 36,
   "metadata": {},
   "outputs": [],
   "source": [
    "import pickle\n",
    "a_file = open(\"token_feature_pubg.pkl\", \"wb\")\n",
    "pickle.dump(token_feature, a_file)\n",
    "a_file.close()\n",
    "a_file = open(\"token_frequency_pubg.pkl\", \"wb\")\n",
    "pickle.dump(token_frequency, a_file)\n",
    "a_file.close()"
   ]
  },
  {
   "cell_type": "code",
   "execution_count": 37,
   "metadata": {},
   "outputs": [],
   "source": [
    "a_file = open(\"token_feature_pubg.pkl\", \"rb\")\n",
    "token_feature = pickle.load(a_file)\n",
    "a_file = open(\"token_frequency_pubg.pkl\", \"rb\")\n",
    "token_frequency = pickle.load(a_file)\n",
    "#df_token_frequency = pd.DataFrame.from_dict(token_frequency, orient='index').rename(columns={0:'frequency'})"
   ]
  },
  {
   "cell_type": "markdown",
   "metadata": {},
   "source": [
    "## Candidate Nouns Selection"
   ]
  },
  {
   "cell_type": "code",
   "execution_count": 38,
   "metadata": {},
   "outputs": [],
   "source": [
    "candidate_frequency = {}\n",
    "candidate_feature = {}"
   ]
  },
  {
   "cell_type": "code",
   "execution_count": null,
   "metadata": {},
   "outputs": [],
   "source": [
    "for i in range(len(reviews)):#len(reviews)\n",
    "    words = nltk.word_tokenize(reviews[i])\n",
    "    noun_tags = ('NN','NNS','NNP','VBG')\n",
    "    word_pos = nltk.pos_tag(words)\n",
    "    if i % 1000 == 0:\n",
    "        print(i)\n",
    "    for word, pos in word_pos:\n",
    "        if pos in noun_tags:\n",
    "            if word not in candidate_frequency:\n",
    "                candidate_frequency[word] = 1\n",
    "                tokens = tokenizer.tokenize(word)\n",
    "                candidate_feature[word] = torch.Tensor([0]*768)\n",
    "                for token in tokens:\n",
    "                    try:\n",
    "                        candidate_feature[word] += token_feature[token]\n",
    "                    except:\n",
    "                        continue\n",
    "                if len(tokens) > 0:\n",
    "                    candidate_feature[word] = candidate_feature[word] / len(tokens)\n",
    "            else:\n",
    "                candidate_frequency[word] += 1\n",
    "                    "
   ]
  },
  {
   "cell_type": "markdown",
   "metadata": {},
   "source": [
    "## Clustering"
   ]
  },
  {
   "cell_type": "code",
   "execution_count": 295,
   "metadata": {},
   "outputs": [],
   "source": [
    "candidate_feature_en = {}\n",
    "candidate_frequency_en = {}\n",
    "for i,(k,v) in enumerate(candidate_feature.items()):\n",
    "    #candidate_feature[k] = v.cpu().detach().numpy()\n",
    "    if len(k) >=3 and candidate_frequency[k] > 10:\n",
    "#         try:\n",
    "#             detect(k) = lang\n",
    "#             if lang == 'en':\n",
    "        candidate_feature_en[k] = candidate_feature[k]\n",
    "        candidate_frequency_en[k] = candidate_frequency[k]\n",
    "#             else:\n",
    "#                 print(lang, k)\n",
    "#         except:\n",
    "#             print(k)\n",
    "\n",
    "df_candidate_frequency = pd.DataFrame.from_dict(candidate_frequency_en, orient='index').rename(columns={0:'frequency'})\n",
    "candidate_feature_list = np.stack( list(candidate_feature_en.values()), axis=0 )"
   ]
  },
  {
   "cell_type": "code",
   "execution_count": null,
   "metadata": {},
   "outputs": [],
   "source": [
    "### if nan but no nan now\n",
    "# for i in range(len(candidate_feature_list)):\n",
    "#     if np.isnan(candidate_feature_list[i]).any() == True:\n",
    "#         candidate_feature_list[i] = np.array([0]*768)\n",
    "#         print(i)"
   ]
  },
  {
   "cell_type": "code",
   "execution_count": 576,
   "metadata": {},
   "outputs": [],
   "source": [
    "# feature definition\n",
    "features = ['gameplay', 'price', 'cheat', 'optimization', 'graphic']\n",
    "feature_centers = np.stack([candidate_feature_en[f] for f in features], axis=0)\n",
    "feature_index = [list(candidate_feature_en.keys()).index(f) for f in features]"
   ]
  },
  {
   "cell_type": "code",
   "execution_count": 577,
   "metadata": {},
   "outputs": [
    {
     "name": "stderr",
     "output_type": "stream",
     "text": [
      "C:\\Users\\User\\anaconda3\\lib\\site-packages\\sklearn\\cluster\\_kmeans.py:1035: RuntimeWarning: Explicit initial center position passed: performing only one init in KMeans instead of n_init=10.\n",
      "  self._check_params(X)\n"
     ]
    }
   ],
   "source": [
    "kmeans = KMeans(n_clusters=5, random_state=0, init = feature_centers).fit(candidate_feature_list)\n",
    "df_candidate = pd.DataFrame(np.array([df_candidate_frequency.index,kmeans.labels_]).transpose(), columns = ['tokens', 'group'])\n",
    "df_candidate['frequency'] = df_candidate_frequency.values"
   ]
  },
  {
   "cell_type": "code",
   "execution_count": 675,
   "metadata": {},
   "outputs": [
    {
     "data": {
      "image/png": "[encoded data removed]",
      "text/plain": [
       "<Figure size 432x288 with 1 Axes>"
      ]
     },
     "metadata": {},
     "output_type": "display_data"
    }
   ],
   "source": [
    "pca = PCA(n_components=2)\n",
    "principalComponents = pca.fit_transform(candidate_feature_list)\n",
    "colors = {0:'green',1:'blue',2:'cyan',3:'orange',4:'red', 5:'brown', 6:'yellow', 7:'purple', 8:'gray'}\n",
    "plt.scatter(x = principalComponents[:,0], y = principalComponents[:,1], c=df_candidate['group'].map(colors))\n",
    "for i, txt in enumerate(features):\n",
    "    plt.annotate(txt, (principalComponents[feature_index[i],0], principalComponents[feature_index[i],1]))"
   ]
  },
  {
   "cell_type": "code",
   "execution_count": 723,
   "metadata": {},
   "outputs": [],
   "source": [
    "#features = ['gameplay', 'price', 'cheat', 'optimization', 'graphic']\n",
    "feature_features = [\n",
    "#gameplay\n",
    "['recoil','hitting','boosts','spawns','risk','zones','painkillers','crossfire','looting','loot','control'\n",
    " ,'reload','callouts','Mini14','Gameplay','solo','friends','kar98','ammo','snakes','armor','parachuting','beryl'],\n",
    "#price\n",
    "['budget','£20','discount','sell','price','money','worth'],\n",
    "#cheat\n",
    "['teamkillers','infestation','douchebags','bugfixing','WALLHACKERS','hackers','cheaters','cheat'],\n",
    "#event\n",
    "#['event'],\n",
    "#optimization\n",
    "['optimization','Buggs','buggs','bug','consistent','CPU','performance','unoptimization','frames','maintainance',\n",
    " 'overloading','server','africa','client','GPU','crash'],\n",
    "#graphic\n",
    "['polygons','map','outfit','building','polygon','barbie','beauty','graphic','view','cloth'],\n",
    "]"
   ]
  },
  {
   "cell_type": "markdown",
   "metadata": {},
   "source": [
    "## Similarity Comparison"
   ]
  },
  {
   "cell_type": "code",
   "execution_count": 724,
   "metadata": {},
   "outputs": [
    {
     "name": "stdout",
     "output_type": "stream",
     "text": [
      "(5, 16490)\n"
     ]
    }
   ],
   "source": [
    "cos_similarities = []\n",
    "for i in range(len(features)):\n",
    "    ff = [candidate_feature_en[f] for f in feature_features[i]]\n",
    "    cos_similarities.append(np.max(cosine_similarity(ff, candidate_feature_list),axis=0))\n",
    "cos_similarities = np.stack(cos_similarities, axis=0 )\n",
    "print(cos_similarities.shape)"
   ]
  },
  {
   "cell_type": "code",
   "execution_count": 725,
   "metadata": {},
   "outputs": [
    {
     "name": "stdout",
     "output_type": "stream",
     "text": [
      "gameplay\n",
      "price\n",
      "cheat\n",
      "optimization\n",
      "graphic\n"
     ]
    }
   ],
   "source": [
    "feature_words = []\n",
    "cos_similarities_group = np.argmax(cos_similarities,axis=0)\n",
    "cos_index_group = np.array(range(cos_similarities.shape[1]))\n",
    "topk = 200\n",
    "\n",
    "for i in range(len(features)):\n",
    "    cos_group = cos_similarities[:,cos_similarities_group==i][i]\n",
    "    cos_i_group = cos_index_group[cos_similarities_group==i]\n",
    "    target_words_index = cos_i_group[np.argsort(cos_group)[::-1][:topk]]\n",
    "    print(features[i])\n",
    "    #with pd.option_context('display.max_rows', None, 'display.max_columns', None):  # more options can be specified also\n",
    "    feature_words.append(df_candidate_frequency.iloc[target_words_index].index.values)\n",
    "    #print(np.sort(cos_group)[::-1][:topk])\n",
    "    #cos_in_group"
   ]
  },
  {
   "cell_type": "code",
   "execution_count": 726,
   "metadata": {},
   "outputs": [
    {
     "name": "stderr",
     "output_type": "stream",
     "text": [
      "<ipython-input-726-27c19a60de61>:4: SettingWithCopyWarning: \n",
      "A value is trying to be set on a copy of a slice from a DataFrame\n",
      "\n",
      "See the caveats in the documentation: https://pandas.pydata.org/pandas-docs/stable/user_guide/indexing.html#returning-a-view-versus-a-copy\n",
      "  df_candidate['feature_group'][a] = i\n"
     ]
    },
    {
     "data": {
      "text/html": [
       "<div>\n",
       "<style scoped>\n",
       "    .dataframe tbody tr th:only-of-type {\n",
       "        vertical-align: middle;\n",
       "    }\n",
       "\n",
       "    .dataframe tbody tr th {\n",
       "        vertical-align: top;\n",
       "    }\n",
       "\n",
       "    .dataframe thead th {\n",
       "        text-align: right;\n",
       "    }\n",
       "</style>\n",
       "<table border=\"1\" class=\"dataframe\">\n",
       "  <thead>\n",
       "    <tr style=\"text-align: right;\">\n",
       "      <th></th>\n",
       "      <th>tokens</th>\n",
       "      <th>group</th>\n",
       "      <th>frequency</th>\n",
       "      <th>feature_group</th>\n",
       "    </tr>\n",
       "  </thead>\n",
       "  <tbody>\n",
       "    <tr>\n",
       "      <th>0</th>\n",
       "      <td>LOOT</td>\n",
       "      <td>3</td>\n",
       "      <td>330</td>\n",
       "      <td>0</td>\n",
       "    </tr>\n",
       "    <tr>\n",
       "      <th>1</th>\n",
       "      <td>DIE</td>\n",
       "      <td>3</td>\n",
       "      <td>405</td>\n",
       "      <td>5</td>\n",
       "    </tr>\n",
       "    <tr>\n",
       "      <th>2</th>\n",
       "      <td>THATS</td>\n",
       "      <td>2</td>\n",
       "      <td>149</td>\n",
       "      <td>4</td>\n",
       "    </tr>\n",
       "    <tr>\n",
       "      <th>3</th>\n",
       "      <td>PUBG</td>\n",
       "      <td>3</td>\n",
       "      <td>38896</td>\n",
       "      <td>5</td>\n",
       "    </tr>\n",
       "    <tr>\n",
       "      <th>4</th>\n",
       "      <td>NUT</td>\n",
       "      <td>3</td>\n",
       "      <td>13</td>\n",
       "      <td>5</td>\n",
       "    </tr>\n",
       "    <tr>\n",
       "      <th>...</th>\n",
       "      <td>...</td>\n",
       "      <td>...</td>\n",
       "      <td>...</td>\n",
       "      <td>...</td>\n",
       "    </tr>\n",
       "    <tr>\n",
       "      <th>16485</th>\n",
       "      <td>REGIONLOCKTHEASIANS</td>\n",
       "      <td>2</td>\n",
       "      <td>12</td>\n",
       "      <td>5</td>\n",
       "    </tr>\n",
       "    <tr>\n",
       "      <th>16486</th>\n",
       "      <td>WALLHACKERS</td>\n",
       "      <td>3</td>\n",
       "      <td>24</td>\n",
       "      <td>2</td>\n",
       "    </tr>\n",
       "    <tr>\n",
       "      <th>16487</th>\n",
       "      <td>Woody</td>\n",
       "      <td>3</td>\n",
       "      <td>11</td>\n",
       "      <td>5</td>\n",
       "    </tr>\n",
       "    <tr>\n",
       "      <th>16488</th>\n",
       "      <td>HAHAHAHHAHAHA</td>\n",
       "      <td>1</td>\n",
       "      <td>76</td>\n",
       "      <td>5</td>\n",
       "    </tr>\n",
       "    <tr>\n",
       "      <th>16489</th>\n",
       "      <td>FOLOW</td>\n",
       "      <td>0</td>\n",
       "      <td>30</td>\n",
       "      <td>5</td>\n",
       "    </tr>\n",
       "  </tbody>\n",
       "</table>\n",
       "<p>16490 rows × 4 columns</p>\n",
       "</div>"
      ],
      "text/plain": [
       "                    tokens group  frequency  feature_group\n",
       "0                     LOOT     3        330              0\n",
       "1                      DIE     3        405              5\n",
       "2                    THATS     2        149              4\n",
       "3                     PUBG     3      38896              5\n",
       "4                      NUT     3         13              5\n",
       "...                    ...   ...        ...            ...\n",
       "16485  REGIONLOCKTHEASIANS     2         12              5\n",
       "16486          WALLHACKERS     3         24              2\n",
       "16487                Woody     3         11              5\n",
       "16488        HAHAHAHHAHAHA     1         76              5\n",
       "16489                FOLOW     0         30              5\n",
       "\n",
       "[16490 rows x 4 columns]"
      ]
     },
     "execution_count": 726,
     "metadata": {},
     "output_type": "execute_result"
    }
   ],
   "source": [
    "df_candidate['feature_group'] = np.array([len(features)]*len(df_candidate))\n",
    "for i in range(len(features)):\n",
    "    a = [True if t in feature_words[i] else False for t in df_candidate['tokens'].values]\n",
    "    df_candidate['feature_group'][a] = i\n",
    "df_candidate"
   ]
  },
  {
   "cell_type": "code",
   "execution_count": 727,
   "metadata": {},
   "outputs": [
    {
     "data": {
      "image/png": "[encoded data removed]",
      "text/plain": [
       "<Figure size 432x288 with 1 Axes>"
      ]
     },
     "metadata": {},
     "output_type": "display_data"
    }
   ],
   "source": [
    "colors = {0:'green',1:'blue',2:'cyan',3:'orange',4:'red', 5:'gray'}\n",
    "plt.scatter(x = principalComponents[:,0], y = principalComponents[:,1], c=df_candidate['feature_group'].map(colors))\n",
    "for i, txt in enumerate(features):\n",
    "    plt.annotate(txt, (principalComponents[feature_index[i],0], principalComponents[feature_index[i],1]))"
   ]
  },
  {
   "cell_type": "code",
   "execution_count": 728,
   "metadata": {},
   "outputs": [],
   "source": [
    "feature_tag = dict(zip(list(df_candidate[df_candidate['feature_group'] < max(df_candidate['feature_group'])].tokens.values) , list(df_candidate[df_candidate['feature_group'] < max(df_candidate['feature_group'])].feature_group.values)))\n",
    "a_file = open(\"feature_tag.pkl\", \"wb\")\n",
    "pickle.dump(feature_tag, a_file)\n",
    "a_file.close()"
   ]
  },
  {
   "cell_type": "code",
   "execution_count": 729,
   "metadata": {},
   "outputs": [],
   "source": [
    "a_file = open(\"feature_tag.pkl\", \"rb\")\n",
    "feature_tag = pickle.load(a_file)"
   ]
  },
  {
   "cell_type": "markdown",
   "metadata": {},
   "source": [
    "## tagging"
   ]
  },
  {
   "cell_type": "code",
   "execution_count": null,
   "metadata": {},
   "outputs": [],
   "source": [
    "candidate_reviews = []\n",
    "feature_positions = []\n",
    "for i in range(len(reviews)):#len(reviews)\n",
    "    if i % 1000 == 0:\n",
    "        print(i)\n",
    "    flag = False\n",
    "    words = nltk.word_tokenize(reviews[i])\n",
    "    temp_dic = {}\n",
    "    for word in words:\n",
    "        if word in feature_tag:\n",
    "            temp_dic[words.index(word)] = feature_tag[word]\n",
    "            flag = True\n",
    "    if flag:\n",
    "        candidate_reviews.append(reviews[i])\n",
    "        feature_positions.append(temp_dic)\n",
    "                    "
   ]
  },
  {
   "cell_type": "code",
   "execution_count": 747,
   "metadata": {},
   "outputs": [],
   "source": [
    "df_output = pd.DataFrame(np.array([candidate_reviews,feature_positions]).transpose(),columns = ['review','feature_positions'])\n",
    "df_output.to_csv('feature_extraction_pubg.csv',sep = '\\t',index=False)"
   ]
  },
  {
   "cell_type": "markdown",
   "metadata": {},
   "source": [
    "## usage"
   ]
  },
  {
   "cell_type": "code",
   "execution_count": 748,
   "metadata": {},
   "outputs": [
    {
     "name": "stdout",
     "output_type": "stream",
     "text": [
      "{1: 0, 3: 4}\n"
     ]
    }
   ],
   "source": [
    "from ast import literal_eval\n",
    "df_test = pd.read_csv('feature_extraction_pubg.csv',sep = '\\t')\n",
    "# if need to transform pandas series back to original type\n",
    "position_list = [literal_eval(dic) for dic in df_test['feature_positions']]\n",
    "print(position_list[0])"
   ]
  },
  {
   "cell_type": "code",
   "execution_count": 749,
   "metadata": {},
   "outputs": [
    {
     "data": {
      "text/html": [
       "<div>\n",
       "<style scoped>\n",
       "    .dataframe tbody tr th:only-of-type {\n",
       "        vertical-align: middle;\n",
       "    }\n",
       "\n",
       "    .dataframe tbody tr th {\n",
       "        vertical-align: top;\n",
       "    }\n",
       "\n",
       "    .dataframe thead th {\n",
       "        text-align: right;\n",
       "    }\n",
       "</style>\n",
       "<table border=\"1\" class=\"dataframe\">\n",
       "  <thead>\n",
       "    <tr style=\"text-align: right;\">\n",
       "      <th></th>\n",
       "      <th>review</th>\n",
       "      <th>feature_positions</th>\n",
       "    </tr>\n",
       "  </thead>\n",
       "  <tbody>\n",
       "    <tr>\n",
       "      <th>0</th>\n",
       "      <td>CHUTE LOOT DIE THATS PUBG IN A NUT SHELL</td>\n",
       "      <td>{1: 0, 3: 4}</td>\n",
       "    </tr>\n",
       "    <tr>\n",
       "      <th>1</th>\n",
       "      <td>Graphics are pretty bad but the gameplay is ok...</td>\n",
       "      <td>{6: 0, 52: 0}</td>\n",
       "    </tr>\n",
       "    <tr>\n",
       "      <th>2</th>\n",
       "      <td>They will ruin your reputation with false bans...</td>\n",
       "      <td>{7: 2, 13: 0, 42: 1, 79: 1}</td>\n",
       "    </tr>\n",
       "    <tr>\n",
       "      <th>3</th>\n",
       "      <td>☼ Graphics ☼\\r\\r\\n☐ Bad\\r\\r\\n☐ Alright\\r\\r\\n☐ ...</td>\n",
       "      <td>{86: 0, 133: 1, 178: 1, 184: 1}</td>\n",
       "    </tr>\n",
       "    <tr>\n",
       "      <th>4</th>\n",
       "      <td>Excellent game to play with friends</td>\n",
       "      <td>{5: 0}</td>\n",
       "    </tr>\n",
       "    <tr>\n",
       "      <th>...</th>\n",
       "      <td>...</td>\n",
       "      <td>...</td>\n",
       "    </tr>\n",
       "    <tr>\n",
       "      <th>129534</th>\n",
       "      <td>I only played maybe an hour of this game, then...</td>\n",
       "      <td>{12: 2, 51: 2}</td>\n",
       "    </tr>\n",
       "    <tr>\n",
       "      <th>129535</th>\n",
       "      <td>Personally I think its better than warzone jus...</td>\n",
       "      <td>{9: 0, 14: 4, 15: 2}</td>\n",
       "    </tr>\n",
       "    <tr>\n",
       "      <th>129536</th>\n",
       "      <td>Honestly this was the best battle royal ever, ...</td>\n",
       "      <td>{9: 4}</td>\n",
       "    </tr>\n",
       "    <tr>\n",
       "      <th>129537</th>\n",
       "      <td>games full of hackers and exploiters</td>\n",
       "      <td>{3: 2, 5: 2}</td>\n",
       "    </tr>\n",
       "    <tr>\n",
       "      <th>129538</th>\n",
       "      <td>game is buggy as hell and crashes all the time</td>\n",
       "      <td>{6: 2}</td>\n",
       "    </tr>\n",
       "  </tbody>\n",
       "</table>\n",
       "<p>129539 rows × 2 columns</p>\n",
       "</div>"
      ],
      "text/plain": [
       "                                                   review  \\\n",
       "0                CHUTE LOOT DIE THATS PUBG IN A NUT SHELL   \n",
       "1       Graphics are pretty bad but the gameplay is ok...   \n",
       "2       They will ruin your reputation with false bans...   \n",
       "3       ☼ Graphics ☼\\r\\r\\n☐ Bad\\r\\r\\n☐ Alright\\r\\r\\n☐ ...   \n",
       "4                     Excellent game to play with friends   \n",
       "...                                                   ...   \n",
       "129534  I only played maybe an hour of this game, then...   \n",
       "129535  Personally I think its better than warzone jus...   \n",
       "129536  Honestly this was the best battle royal ever, ...   \n",
       "129537               games full of hackers and exploiters   \n",
       "129538     game is buggy as hell and crashes all the time   \n",
       "\n",
       "                      feature_positions  \n",
       "0                          {1: 0, 3: 4}  \n",
       "1                         {6: 0, 52: 0}  \n",
       "2           {7: 2, 13: 0, 42: 1, 79: 1}  \n",
       "3       {86: 0, 133: 1, 178: 1, 184: 1}  \n",
       "4                                {5: 0}  \n",
       "...                                 ...  \n",
       "129534                   {12: 2, 51: 2}  \n",
       "129535             {9: 0, 14: 4, 15: 2}  \n",
       "129536                           {9: 4}  \n",
       "129537                     {3: 2, 5: 2}  \n",
       "129538                           {6: 2}  \n",
       "\n",
       "[129539 rows x 2 columns]"
      ]
     },
     "execution_count": 749,
     "metadata": {},
     "output_type": "execute_result"
    }
   ],
   "source": [
    "df_test"
   ]
  },
  {
   "cell_type": "markdown",
   "metadata": {},
   "source": [
    "## other codes for testing"
   ]
  },
  {
   "cell_type": "code",
   "execution_count": 522,
   "metadata": {},
   "outputs": [
    {
     "name": "stdout",
     "output_type": "stream",
     "text": [
      "cheat\n",
      "               frequency\n",
      "microstutters         12\n",
      "cams                 310\n",
      "Cams                  11\n",
      "tabs                  21\n",
      "CHEATER              531\n",
      "Cheater              427\n",
      "cheater             4622\n",
      "monetisation          53\n",
      "monetising            14\n",
      "ticks                 77\n",
      "renders               60\n",
      "radars                17\n",
      "teleportation         45\n",
      "crapshoot             14\n",
      "exploiter             11\n",
      "dips                 131\n",
      "proofs                14\n",
      "monetizing            58\n",
      "INCOMPETENT           14\n",
      "Incompetent           26\n",
      "incompetent          144\n",
      "teleports             40\n",
      "chineses              66\n",
      "Chineses              20\n",
      "abusing              207\n",
      "specifics             32\n",
      "rubberbands           23\n",
      "crashs                22\n",
      "monitization          46\n",
      "Miscreated            16\n",
      "letdown               13\n",
      "hitboxes             586\n",
      "Hitboxes             117\n",
      "HITBOXES              17\n",
      "countrys              14\n",
      "aimbotter             77\n",
      "fests                 12\n",
      "anti-cheats           29\n",
      "matchs                53\n",
      "Aimbotting            15\n",
      "aimbotting           167\n",
      "moneys               154\n",
      "boosters              49\n",
      "betas                 25\n",
      "terrains              34\n",
      "seperate              32\n",
      "streamer            2109\n",
      "Streamer              62\n",
      "STREAMER              18\n",
      "scripter              11\n",
      "[0.9995331, 0.999533, 0.999533, 0.99953204, 0.99953103, 0.99953103, 0.99953103, 0.9995298, 0.99952936, 0.99952865, 0.9995284, 0.999528, 0.9995278, 0.9995277, 0.99952704, 0.999527, 0.9995268, 0.9995267, 0.99952656, 0.99952656, 0.99952656, 0.9995254, 0.99952453, 0.99952453, 0.9995235, 0.9995234, 0.9995233, 0.99952304, 0.9995229, 0.9995226, 0.9995224, 0.9995221, 0.9995221, 0.9995221, 0.999522, 0.999522, 0.9995217, 0.99952143, 0.9995213, 0.9995208, 0.9995208, 0.9995199, 0.99951947, 0.9995191, 0.999519, 0.9995186, 0.9995182, 0.9995182, 0.9995182, 0.9995179]\n"
     ]
    }
   ],
   "source": [
    "#word = \"\"\n",
    "#input_ids = torch.tensor([tokenizer.encode(word)])\n",
    "topk = 50\n",
    "with torch.no_grad():\n",
    "    i = 2\n",
    "    #features = model(input_ids,output_hidden_states =True)\n",
    "    ff = [candidate_feature_en[f] for f in feature_features[i]]\n",
    "    cos = np.sum(cosine_similarity(ff, candidate_feature_list),axis=0) / len(ff)\n",
    "    print(features[i])\n",
    "    target_words_index = np.argsort(cos)[::-1][:topk]\n",
    "    target_words_cos = sorted(cos)[::-1][:topk]\n",
    "    with pd.option_context('display.max_rows', None, 'display.max_columns', None):  # more options can be specified also\n",
    "        print(df_candidate_frequency.iloc[target_words_index,:])\n",
    "    print(target_words_cos)\n",
    "    #print(target_words_index.shape)"
   ]
  },
  {
   "cell_type": "code",
   "execution_count": null,
   "metadata": {},
   "outputs": [],
   "source": [
    "matching = [s for s in reviews if \" hitboxes \" in s]\n",
    "matching"
   ]
  },
  {
   "cell_type": "code",
   "execution_count": 268,
   "metadata": {},
   "outputs": [
    {
     "data": {
      "text/plain": [
       "['optimization']"
      ]
     },
     "execution_count": 268,
     "metadata": {},
     "output_type": "execute_result"
    }
   ],
   "source": [
    "nltk.word_tokenize('optimization')"
   ]
  },
  {
   "cell_type": "code",
   "execution_count": 70,
   "metadata": {},
   "outputs": [
    {
     "name": "stdout",
     "output_type": "stream",
     "text": [
      "Geralt\n",
      "torch.Size([5, 768])\n",
      "[[0.8998311 ]\n",
      " [0.9615855 ]\n",
      " [0.9530124 ]\n",
      " [0.90793467]\n",
      " [0.9087192 ]]\n"
     ]
    }
   ],
   "source": [
    "with torch.no_grad():\n",
    "    character = model(torch.tensor([tokenizer.encode('character')]),output_hidden_states =True)['hidden_states'][-1][:,1,:]\n",
    "    \n",
    "words = 'Geralt'\n",
    "input_ids = torch.tensor([tokenizer.encode(words, truncation=True, max_length=512)])\n",
    "with torch.no_grad():\n",
    "    features = model(input_ids,output_hidden_states =True)\n",
    "    print(words)\n",
    "    print(features['hidden_states'][-1][0,:,:].shape)\n",
    "    print(cosine_similarity(features['hidden_states'][-1][0,:,:], character))"
   ]
  },
  {
   "cell_type": "code",
   "execution_count": 62,
   "metadata": {},
   "outputs": [
    {
     "name": "stdout",
     "output_type": "stream",
     "text": [
      "Geralt NNP\n",
      "is VBZ\n",
      "a DT\n",
      "witcher NN\n",
      ". .\n"
     ]
    }
   ],
   "source": [
    "r = 'Geralt is a witcher.'\n",
    "words = nltk.word_tokenize(r)\n",
    "noun_tags = ('NN','NNS','NNP')\n",
    "word_pos = nltk.pos_tag(words)\n",
    "for word, pos in word_pos:\n",
    "    print(word, pos)\n",
    "    #if pos in noun_tags:\n",
    "\n",
    "#print(i, words)"
   ]
  }
 ],
 "metadata": {
  "kernelspec": {
   "display_name": "Python 3",
   "language": "python",
   "name": "python3"
  },
  "language_info": {
   "codemirror_mode": {
    "name": "ipython",
    "version": 3
   },
   "file_extension": ".py",
   "mimetype": "text/x-python",
   "name": "python",
   "nbconvert_exporter": "python",
   "pygments_lexer": "ipython3",
   "version": "3.8.5"
  }
 },
 "nbformat": 4,
 "nbformat_minor": 4
}
